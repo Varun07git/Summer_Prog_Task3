{
 "metadata": {
  "language_info": {
   "codemirror_mode": {
    "name": "ipython",
    "version": 3
   },
   "file_extension": ".py",
   "mimetype": "text/x-python",
   "name": "python",
   "nbconvert_exporter": "python",
   "pygments_lexer": "ipython3",
   "version": "3.8.5"
  },
  "orig_nbformat": 4,
  "kernelspec": {
   "name": "python3",
   "display_name": "Python 3.8.5 64-bit ('base': conda)"
  },
  "interpreter": {
   "hash": "34dfee18d5f4a96df9a8fcc719c91cf50e8ed50de2aa108bf45cd20982063274"
  }
 },
 "nbformat": 4,
 "nbformat_minor": 2,
 "cells": [
  {
   "cell_type": "code",
   "execution_count": 1,
   "metadata": {},
   "outputs": [],
   "source": [
    "import socket, cv2, pickle,struct\n",
    "import pyfiglet as py\n",
    "from termcolor import colored"
   ]
  },
  {
   "cell_type": "code",
   "execution_count": 2,
   "metadata": {},
   "outputs": [
    {
     "output_type": "stream",
     "name": "stdout",
     "text": [
      "HOST IP: 192.168.50.1\n\t\t\t\n*************************************************\nSocket Created\n\t\t\t\n*************************************************\n"
     ]
    }
   ],
   "source": [
    "server_socket = socket.socket(socket.AF_INET,socket.SOCK_STREAM)\n",
    "host_name  = socket.gethostname()\n",
    "host_ip = socket.gethostbyname(host_name)\n",
    "print('HOST IP:',host_ip)\n",
    "print(\"\\n\")\n",
    "port = 2222\n",
    "socket_address = ('192.168.43.207',port)\n",
    "print(\"Socket Created\")\n",
    "print(\"\\n\")\n"
   ]
  },
  {
   "cell_type": "code",
   "execution_count": 3,
   "metadata": {},
   "outputs": [
    {
     "output_type": "stream",
     "name": "stdout",
     "text": [
      "Socket Bind Successfully\n\t\t\t\n*************************************************\n"
     ]
    }
   ],
   "source": [
    "server_socket.bind(socket_address)\n",
    "print(\"Socket Bind Successfully\")\n",
    "print(\"\\t\\t\\t\\n*************************************************\")\n"
   ]
  },
  {
   "cell_type": "code",
   "execution_count": 4,
   "metadata": {},
   "outputs": [
    {
     "output_type": "stream",
     "name": "stdout",
     "text": [
      "LISTENING AT: ('192.168.43.207', 2222)\n\t\t\t\n*************************************************\n"
     ]
    }
   ],
   "source": [
    "server_socket.listen(5)\n",
    "print(\"LISTENING AT:\",socket_address)\n",
    "print(\"\\t\\t\\t\\n*************************************************\")\n"
   ]
  },
  {
   "cell_type": "code",
   "execution_count": 5,
   "metadata": {},
   "outputs": [
    {
     "output_type": "stream",
     "name": "stdout",
     "text": [
      "\u001b[31m  _   _   _   _   _   _     _   _   _   _   _   _  \n / \\ / \\ / \\ / \\ / \\ / \\   / \\ / \\ / \\ / \\ / \\ / \\ \n( S | o | c | k | e | t ) ( A | c | c | e | p | t )\n \\_/ \\_/ \\_/ \\_/ \\_/ \\_/   \\_/ \\_/ \\_/ \\_/ \\_/ \\_/ \n\u001b[0m\n\t\t\t\n*************************************************\n"
     ]
    }
   ],
   "source": [
    "results = py.figlet_format(\"Socket Accept\")\n",
    "print(colored(results, 'red'))\n",
    "print(\"\\t\\t\\t\\n*************************************************\")\n",
    "while True:\n",
    "    client_socket,addr = server_socket.accept()\n",
    "    print('GOT CONNECTION FROM:',addr)\n",
    "    if client_socket:\n",
    "        vid = cv2.VideoCapture(0)\n",
    "        \n",
    "        while(vid.isOpened()):\n",
    "            img,frame = vid.read()\n",
    "            a = pickle.dumps(frame)\n",
    "            message = struct.pack(\"Q\",len(a))+a\n",
    "            client_socket.sendall(message)\n",
    "            \n",
    "\t\t\n",
    "            cv2.imshow('TRANSMITTING VIDEO',frame)\n",
    "            key = cv2.waitKey(1) & 0xFF\n",
    "            if key ==ord('q'):\n",
    "                break\n",
    "client_socket.close()"
   ]
  },
  {
   "cell_type": "code",
   "execution_count": null,
   "metadata": {},
   "outputs": [],
   "source": []
  }
 ]
}